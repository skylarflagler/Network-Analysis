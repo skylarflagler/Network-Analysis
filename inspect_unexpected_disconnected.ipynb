{
 "cells": [
  {
   "cell_type": "code",
   "execution_count": null,
   "metadata": {},
   "outputs": [],
   "source": [
    "import arcpy\n",
    "arcpy.env.workspace = r\"C:\\Users\\syu\\Documents\\ArcGIS\\Projects\\network_1\\Default.gdb\"\n",
    "\n",
    "input_lines = \"Streets_flagler\"\n",
    "point_layer = \"endpoint\"\n",
    "distance_table = \"near_distance_table\"\n",
    "output_table = \"unconnected_segments\""
   ]
  },
  {
   "cell_type": "code",
   "execution_count": null,
   "metadata": {},
   "outputs": [],
   "source": [
    "# get endpoints\n",
    "arcpy.FeatureVerticesToPoints_management(input_lines, point_layer, \"BOTH_ENDS\")\n",
    "print(f\"Generated{point_layer} successfully\")\n",
    "\n",
    "points = {}\n",
    "point_to_segment ={}\n",
    "\n",
    "with arcpy.da.SearchCursor(point_layer, [\"OBJECTID\", \"SEGMT_ID\", \"T_ZLev\", \"F_ZLev\", \"SHAPE@XY\", \"ORIG_FID\"]) as cursor:    \n",
    "    for row in cursor:\n",
    "        obj_id = row[0]\n",
    "        seg_id = row[1] if row[1] is not None else \"Unknown_\" + str(row[0])\n",
    "        t_z = row[2] if row[2] is not None else 0\n",
    "        f_z = row[3] if row[3] is not None else 0\n",
    "        xy = row[4]\n",
    "        orig_fid = row[5] \n",
    "        points[obj_id] = (t_z, f_z, xy)\n",
    "        point_to_segment[obj_id] = (seg_id, orig_fid)\n"
   ]
  },
  {
   "cell_type": "code",
   "execution_count": null,
   "metadata": {},
   "outputs": [],
   "source": [
    "# create the distance table \n",
    "arcpy.analysis.GenerateNearTable(\n",
    "    in_features=point_layer,\n",
    "    near_features=point_layer,\n",
    "    out_table=distance_table,\n",
    "    search_radius=1,\n",
    "    location=\"NO_LOCATION\",\n",
    "    angle=\"NO_ANGLE\",\n",
    "    closest=\"ALL\",\n",
    "    closest_count=0,\n",
    "    method=\"PLANAR\",  \n",
    "    distance_unit=\"METERS\"\n",
    ")\n",
    "\n",
    "print(f\"Generated {distance_table} successfully.\")\n"
   ]
  },
  {
   "cell_type": "code",
   "execution_count": null,
   "metadata": {},
   "outputs": [],
   "source": [
    "# create the output table\n",
    "arcpy.management.CreateTable(arcpy.env.workspace, output_table)\n",
    "fields = [\n",
    "    (\"SEGMT_ID_1\", \"TEXT\"),\n",
    "    (\"ORIG_FID_1\", \"LONG\"),\n",
    "    (\"SEGMT_ID_2\",\"TEXT\"),\n",
    "    (\"ORIG_FID_2\",\"LONG\"),\n",
    "    (\"NEAR_DISTANCE\",\"DOUBLE\")\n",
    "]\n",
    "\n",
    "arcpy.management.AddFields(output_table, fields)\n",
    "\n",
    "print (f\"Created {output_table}successfully.\")\n"
   ]
  },
  {
   "cell_type": "code",
   "execution_count": null,
   "metadata": {},
   "outputs": [],
   "source": [
    "\n",
    "# filter the distance table and put unconneted points to unconnected_segments\n",
    "unconnected_pairs = []\n",
    "with arcpy.da.SearchCursor(distance_table, [\"IN_FID\", \"NEAR_FID\", \"NEAR_DIST\"]) as cursor:\n",
    "    for row in cursor:\n",
    "        in_fid = row[0]\n",
    "        near_fid = row[1]\n",
    "        near_dist = row[2]\n",
    "        \n",
    "        if 0 < near_dist < 1:\n",
    "            seg1_info = point_to_segment.get(in_fid)\n",
    "            seg2_info = point_to_segment.get(near_fid)\n",
    "            \n",
    "            if seg1_info[1] != seg2_info[1]:\n",
    "                seg1 = points.get(in_fid)\n",
    "                seg2 = points.get(near_fid)\n",
    "\n",
    "                if seg1 and seg2:\n",
    "                    seg1_t_z, seg1_f_z, _ = seg1\n",
    "                    seg2_t_z, seg2_f_z, _ = seg2\n",
    "\n",
    "                    if (seg1_t_z == seg2_t_z) or (seg1_f_z == seg2_f_z) or (seg1_t_z == seg2_f_z) or (seg1_f_z == seg2_t_z):\n",
    "                        unconnected_pairs.append((\n",
    "                            seg1_info[0], seg1_info[1],  # SEGMT_ID_1, ORIG_FID_1\n",
    "                            seg2_info[0], seg2_info[1],  # SEGMT_ID_2, ORIG_FID_2\n",
    "                            near_dist                    # NEAR_DISTANCE\n",
    "                        ))\n",
    "                        print(f\"Possible unconnected segments: {seg1_info[0]} and {seg2_info[0]} \"\n",
    "                              f\"(Distance: {near_dist:.2f}m, ORIG_FID_1: {seg1_info[1]}, ORIG_FID_2: {seg2_info[1]})\")\n",
    "\n",
    "\n",
    "if unconnected_pairs:\n",
    "    with arcpy.da.InsertCursor(output_table, [\"SEGMT_ID_1\", \"ORIG_FID_1\", \"SEGMT_ID_2\", \"ORIG_FID_2\", \"NEAR_DISTANCE\"]) as cursor:\n",
    "        for seg1_id, orig_fid1, seg2_id, orig_fid2, dist in unconnected_pairs:\n",
    "            cursor.insertRow([seg1_id, orig_fid1, seg2_id, orig_fid2, dist])\n",
    "    print(f\"Inserted {len(unconnected_pairs)} records into {output_table}.\")\n",
    "else:\n",
    "    print(\"No unconnected segments found.\")"
   ]
  },
  {
   "cell_type": "markdown",
   "metadata": {},
   "source": []
  },
  {
   "cell_type": "code",
   "execution_count": null,
   "metadata": {},
   "outputs": [],
   "source": []
  }
 ],
 "metadata": {
  "kernelspec": {
   "display_name": "base",
   "language": "python",
   "name": "python3"
  },
  "language_info": {
   "codemirror_mode": {
    "name": "ipython",
    "version": 3
   },
   "file_extension": ".py",
   "mimetype": "text/x-python",
   "name": "python",
   "nbconvert_exporter": "python",
   "pygments_lexer": "ipython3",
   "version": "3.12.7"
  }
 },
 "nbformat": 4,
 "nbformat_minor": 2
}
